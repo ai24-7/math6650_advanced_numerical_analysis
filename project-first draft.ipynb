{
 "cells": [
  {
   "cell_type": "markdown",
   "metadata": {
    "collapsed": false
   },
   "source": [
    "#### Apr 5 Exploration: Project report draft\n",
    "\n",
    "* Title, your name, paper bibliographic information, sections have headers, not many typos, complete sentences used, and other issues of presentation quality, out of 2: 2\n",
    "* Introduction: What the paper is about, what claims does it make, definitions needed to understand later parts of the report, ..., out of 2: 1 Some things are still placeholders.\n",
    "* Proof checking. For the theorem(s)/lemma(s) that you will check, include their original theorem/lemma statement(s) and proof(s) (you can insert as images), out out 3: 3\n",
    "* Numerical results checking. For the results that you will check, explain what they are testing and give their original results/ tables/ graphs  (you can insert as images), out of 3: 3\n",
    "\n",
    "Total, out of 10: 9"
   ]
  },
  {
   "cell_type": "markdown",
   "metadata": {
    "collapsed": false
   },
   "source": [
    "# Project \\(First Draft\\)\n",
    "\n",
    "## A barycentric trigonometric Hermite interpolant via an iterative approach\n",
    "\n"
   ]
  },
  {
   "cell_type": "markdown",
   "metadata": {
    "collapsed": false
   },
   "source": [
    "### General information\n",
    "\n",
    "Author: Daniel Safavisohi"
   ]
  },
  {
   "cell_type": "markdown",
   "metadata": {
    "collapsed": false
   },
   "source": [
    "#### Bibliographic information"
   ]
  },
  {
   "cell_type": "raw",
   "metadata": {
    "collapsed": false
   },
   "source": [
    "@article {MR4653302,\n",
    "    AUTHOR = {Elefante, Giacomo},\n",
    "     TITLE = {A barycentric trigonometric {H}ermite interpolant via an\n",
    "              iterative approach},\n",
    "   JOURNAL = {J. Comput. Appl. Math.},\n",
    "  FJOURNAL = {Journal of Computational and Applied Mathematics},\n",
    "    VOLUME = {439},\n",
    "      YEAR = {2024},\n",
    "     PAGES = {Paper No. 115597, 13},\n",
    "      ISSN = {0377-0427,1879-1778},\n",
    "   MRCLASS = {65D05 (42A15 65T40)},\n",
    "  MRNUMBER = {4653302},\n",
    "       DOI = {10.1016/j.cam.2023.115597},\n",
    "       URL = {https://doi.org/10.1016/j.cam.2023.115597},\n",
    "}"
   ]
  },
  {
   "cell_type": "markdown",
   "metadata": {
    "collapsed": false
   },
   "source": [
    "### Introduction"
   ]
  },
  {
   "cell_type": "markdown",
   "metadata": {
    "collapsed": false
   },
   "source": [
    "The paper focuses on Hermite interpolation and extends and generalizes an iterative method introduced by Cirillo et al. in 2018, originally applied to the Floater–Hormann family of interpolants. This new approach yields an effective barycentric rational trigonometric Hermite interpolant at general ordered nodes. The foundation of this work is based on basis functions from Berrut's 1988 trigonometric interpolant.\n",
    "\n",
    "A key advancement in this research is the analytical calculation of the differentiation matrix, facilitating easier computational construction of the interpolant. The paper provides various examples and a thorough numerical study examining the convergence at equidistant and conformally mapped nodes. It outlines an iterative scheme for constructing Hermite interpolants from general interpolation bases, focusing specifically on Berrut’s trigonometric interpolant. The resulting interpolant demonstrates potential applications in fields such as algorithm development, image processing, and network reliability analysis.\n",
    "\n",
    "To have a better understanding of this method, I am going to briefly mention:\n",
    "- basis of the Floater-Hormann family of interpolants\n",
    "- a general iterative approach for a smooth function that satisfied Lagrange and Hermite conditions\n",
    "- Berrut's trigonometric interpolant \n",
    "- a formula that allows us to calcluate analytically the differential matrix of the Hermite interpolant\n",
    "- wrap up all necessary formulas to make one iteration for the first test function\n",
    "\n",
    "TBD\n"
   ]
  },
  {
   "cell_type": "code",
   "execution_count": 0,
   "metadata": {
    "collapsed": false
   },
   "outputs": [
   ],
   "source": [
   ]
  },
  {
   "cell_type": "markdown",
   "metadata": {
    "collapsed": false
   },
   "source": [
    "### Proof Checking"
   ]
  },
  {
   "cell_type": "markdown",
   "metadata": {
    "collapsed": false
   },
   "source": [
    "- Lemma 1\n",
    "- Theorem 1"
   ]
  },
  {
   "cell_type": "markdown",
   "metadata": {
    "collapsed": false
   },
   "source": [
    "The first thing that I am going to prove is lemma 1."
   ]
  },
  {
   "cell_type": "markdown",
   "metadata": {
    "collapsed": false
   },
   "source": [
    "![lemma](lemma.png)"
   ]
  },
  {
   "cell_type": "markdown",
   "metadata": {
    "collapsed": false
   },
   "source": [
    "The proof  provided by the author is :"
   ]
  },
  {
   "cell_type": "markdown",
   "metadata": {
    "collapsed": false
   },
   "source": [
    "![lemma_proof](lemma_proof.png)"
   ]
  },
  {
   "cell_type": "markdown",
   "metadata": {
    "collapsed": false
   },
   "source": [
    "On top of that, I am going to prove theorem 1."
   ]
  },
  {
   "cell_type": "markdown",
   "metadata": {
    "collapsed": false
   },
   "source": [
    "![theorem1](theorem1.png)"
   ]
  },
  {
   "cell_type": "markdown",
   "metadata": {
    "collapsed": false
   },
   "source": [
    "The author proves that in this way:"
   ]
  },
  {
   "cell_type": "markdown",
   "metadata": {
    "collapsed": false
   },
   "source": [
    "![theorem1_proof](theorem_proof.png)"
   ]
  },
  {
   "cell_type": "markdown",
   "metadata": {
    "collapsed": false
   },
   "source": [
    "### Numerical Results Checking"
   ]
  },
  {
   "cell_type": "markdown",
   "metadata": {
    "collapsed": false
   },
   "source": [
    "I am going to use python and calculate interpolation iteratively for the first periodic test function , \n",
    "\n",
    "$$ f_1(x) = e^{2\\sin(\\theta)+\\cos(\\theta)} $$\n",
    "\n",
    ",over $ [0,2\\pi) $ . \n",
    "\n",
    "Then make a graph to better show the difference between the interpolation and function values. In the graph below, red dashed line is the actual value of the function and blue line is the interpolation using 7 equidistant points.\n"
   ]
  },
  {
   "cell_type": "markdown",
   "metadata": {
    "collapsed": false
   },
   "source": [
    "![Realvsinterpolation](real.png)"
   ]
  },
  {
   "cell_type": "markdown",
   "metadata": {
    "collapsed": false
   },
   "source": [
    "The Next step is to compute the absolute error between the function and the interpolant with N nodes (N=5,10,20,40). Finally, I am going to graph the result using absolute error ( $-\\log_2(\\frac{err_{2N}}{err_n})$ ) versus number of nodes ( N )."
   ]
  },
  {
   "cell_type": "markdown",
   "metadata": {
    "collapsed": false
   },
   "source": [
    "The author provides the figure below:"
   ]
  },
  {
   "cell_type": "markdown",
   "metadata": {
    "collapsed": false
   },
   "source": [
    "![error](error.png)"
   ]
  },
  {
   "cell_type": "code",
   "execution_count": 0,
   "metadata": {
    "collapsed": false
   },
   "outputs": [
   ],
   "source": [
   ]
  },
  {
   "cell_type": "code",
   "execution_count": 0,
   "metadata": {
    "collapsed": false
   },
   "outputs": [
   ],
   "source": [
   ]
  }
 ],
 "metadata": {
  "kernelspec": {
   "argv": [
    "/usr/bin/python3",
    "-m",
    "ipykernel",
    "--HistoryManager.enabled=False",
    "--matplotlib=inline",
    "-c",
    "%config InlineBackend.figure_formats = set(['retina'])\nimport matplotlib; matplotlib.rcParams['figure.figsize'] = (12, 7)",
    "-f",
    "{connection_file}"
   ],
   "display_name": "Python 3 (system-wide)",
   "env": {
   },
   "language": "python",
   "metadata": {
    "cocalc": {
     "description": "Python 3 programming language",
     "priority": 100,
     "url": "https://www.python.org/"
    }
   },
   "name": "python3",
   "resource_dir": "/ext/jupyter/kernels/python3"
  }
 },
 "nbformat": 4,
 "nbformat_minor": 4
}