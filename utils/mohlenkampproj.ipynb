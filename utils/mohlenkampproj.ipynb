{
 "cells": [
  {
   "cell_type": "markdown",
   "id": "fd06b0bf-b929-4316-b14a-71c2b706a73a",
   "metadata": {},
   "source": [
    "\n",
    "\n",
    "Base Case:\n",
    "\n",
    "\n",
    "\n",
    "$$b_{i,0}^{(k)} = \\frac{1}{0!} d_i(x)^0 b_i(x)^1 = b_i(x)$$\n",
    "Given the fact that $b_i(x)$ satisfy Lagrange property, i.e. $b_i(x_i) = \\delta_{i,j}$, and kronecker delta is zero when $i=j$ and one when $i\\neq j $  \\\n",
    "Therefore base case holds.\n",
    "\n",
    "\n",
    "\n",
    "\n",
    "\n",
    "\n",
    "\n",
    "\n",
    "\n",
    "\n",
    "\n",
    "\n",
    "\n",
    "\n",
    "\n",
    "\n",
    "\n",
    "\n"
   ]
  },
  {
   "cell_type": "markdown",
   "id": "31a6c110-95df-483b-aa32-9a9bb3536fce",
   "metadata": {},
   "source": [
    "Inductive Hypothesis: \\\n",
    "Assume that for $k<j-1$ \n",
    "$$b_{i,j-1}^{(k)}(x_p) = 0$$\n",
    "$$b_{i,j-1}^{(j-1)}(x_p) = \\delta_{i,p}$$\n",
    "\n",
    "Let $ c_i(x) = d_i(x) b_i(x)$ \\\n",
    "and \\\n",
    "$$ b_{i,j}(x) = \\frac{1}{j!} d_i(x) b_i(x) d_i(x)^{j-1} b_i(x)^j$$\n",
    "Therefore,\n",
    "$$ b_{i,j}(x) = \\frac{1}{j!} c_i(x) d_i(x)^{j-1} b_i(x)^j = $$\n",
    "We also have \n",
    "$$ b_{i,j-1}(x) = \\frac{1}{(j-1)!} d_i(x)^{j-1} b_i(x)^j $$ \\\n",
    "Then we can rewrite $b_{i,j}$ as : \\\n",
    "$$ b_{i,j}(x) = \\frac{1}{j} \\frac{1}{(j-1)!} c_i(x) d_i(x)^{j-1} b_i(x)^j = \\frac{1}{j} c_i(x) b_{i,j-1}(x) $$\n",
    "Now, we can use generalized Leibniz Rule of product for two functions f and g:\n",
    "$$\\frac{d^k}{dx^k}(f(x) g(x)) = \\sum_{s=0}^{k} {k \\choose s} f^{(s)}(x) g^{(k-s)}(x) $$\n",
    "To compute k-th derivative of basis:\n",
    "$$ b_{i,j}^{(k)}(x) = \\frac{1}{j} \\sum_{s=0}^k {k \\choose s} c_i^{(k-s)}(x) b_{i,j-1}^{(s)}(x) $$\n",
    "\n"
   ]
  },
  {
   "cell_type": "markdown",
   "id": "cb05edd3-8a0b-4cbd-9443-aec855ec4ad9",
   "metadata": {},
   "source": [
    "Now from inductive hypothesis, for $s<j-1$ we have: \\\n",
    "$$ b_{i,j-1}^{(s)}(x_p) = 0 $$\n",
    "Therefore: \\\n",
    "$$ b_{i,j}^{(k)}(x_p) = \\frac{1}{j} \\sum_{s=j-1}^{k-1} {k \\choose s} c_i^{(k-s)}(x_p) b_{i,j-1}^{(s)}(x_p)$$"
   ]
  },
  {
   "cell_type": "markdown",
   "id": "fa83c560-449a-4a7d-a266-dec910843134",
   "metadata": {},
   "source": [
    "Now for $k<j$ summation is empty. Therefore: \\\n",
    "$$b_{i,j}^{(k)}(x_p) = 0 $$\n",
    "\n",
    "for $k=j$ we have: \\\n",
    "$$ b_{i,j}^{(j)}(x_p) = \\frac{1}{j} {j \\choose j-1} c_i'(x_p) b_{i,j-1}^{(j-1)}(x_p) $$"
   ]
  },
  {
   "cell_type": "markdown",
   "id": "643b774b-c799-4d0c-9fff-58ea10df4d1b",
   "metadata": {},
   "source": [
    "From combination formula,\n",
    "$$ {j \\choose j-1} = j$$ \\\n",
    "From inductive hypothesis,\n",
    "$$ b_{i,j-1}^{(j-1)}(x_p) = \\delta_{i,p} $$\n",
    "Then we have:\n",
    "$$b_{i,j}^{(j)}(x_p) = c_i'(x_p) \\delta_{i,p}(x_p) $$"
   ]
  },
  {
   "cell_type": "markdown",
   "id": "d1882145-4825-489c-bdd1-b0a437d22c17",
   "metadata": {},
   "source": [
    "Now let's focus on $c_i'(x)$ \\\n",
    "we have $c_i(x) = d_i(x)b_i(x)$ \\\n",
    "so \\\n",
    "$$ c_i'(x_p) = d_i'(x_p) b_i(x_p) + d_i(x_p) b_i'(xp)$$\n",
    "At the beginning, we assumed that d(x) is a smooth function with three properties, \\\n",
    "one of them is that $d_i'(xp)=1$ . we also know from induction hypothesis that b_i'(x_p) = 0. \\\n",
    "Finally, due to the result of base case, we know that $b_i(x_p)=1$ when $i\\neq p$ . \\\n",
    "Therefore : \\\n",
    "$$ c_i'(x_p) = 1$$\n"
   ]
  },
  {
   "cell_type": "markdown",
   "id": "fcd1c835-282b-4fe8-a59e-162054903ee5",
   "metadata": {},
   "source": [
    "And : \\\n",
    "$$b_{i,j}^{(j)}(x_p) = \\delta_{i,p}(x_p) $$"
   ]
  },
  {
   "cell_type": "markdown",
   "id": "3d147d1b-ba7c-4c4e-9efb-c34d115273f6",
   "metadata": {},
   "source": [
    "If we take k_th derivative of $r_m$ we have :\n",
    "$$ r_m^{(k)}(x_l) = \\sum_{i=0}^n \\sum_{j=0}^m b_{i,j}^{(k)}(x)\\bigg|_{x=x_l} g_{i,j} $$\n",
    "Using the result of lemma 1, for $j>k$ we have 0, so\n",
    "$$ r_m^{(k)}(x_l) = \\sum_{i=0}^n \\sum_{j=0}^k b_{i,j}^{(k)}(x)\\bigg|_{x=x_l} g_{i,j} $$\n",
    "$$ r_m^{(k)}(x_l) = \\sum_{i=0}^n b_{i,k}^{(k)}(x)\\bigg|_{x=x_l} g_{i,k} +\\sum_{i=0}^n \\sum_{j=0}^{k-1} b_{i,j}^{(k)}(x)\\bigg|_{x=x_l} g_{i,j} $$\n",
    "From the proof of lemma 1, we know that $b_{i,k}^{(k)}(x_l)= \\delta_{i,l} $ and all terms are zeros where $i \\neq l$. We also know that $\\delta_{l,l}=1$. Therefore, the only terms that get out of summation is $g_{l,k}$.\n",
    "$$ r_m^{(k)}(x_l) = g_{l,k} +\\sum_{i=0}^n \\sum_{j=0}^{k-1} b_{i,j}^{(k)}(x)\\bigg|_{x=x_l} g_{i,j} $$\n",
    "$$ r_m^{(k)}(x_l) = g_{l,k} + r_{k-1}^{(k)}(x_l) $$\n",
    "$$ r_m^{(k)}(x_l) = f_{l,k}$$\n"
   ]
  },
  {
   "cell_type": "code",
   "execution_count": null,
   "id": "674decc0-cb0d-4a76-b3f2-2f54edd1d493",
   "metadata": {},
   "outputs": [],
   "source": []
  }
 ],
 "metadata": {
  "kernelspec": {
   "display_name": "Python 3 (ipykernel)",
   "language": "python",
   "name": "python3"
  },
  "language_info": {
   "codemirror_mode": {
    "name": "ipython",
    "version": 3
   },
   "file_extension": ".py",
   "mimetype": "text/x-python",
   "name": "python",
   "nbconvert_exporter": "python",
   "pygments_lexer": "ipython3",
   "version": "3.8.18"
  }
 },
 "nbformat": 4,
 "nbformat_minor": 5
}
