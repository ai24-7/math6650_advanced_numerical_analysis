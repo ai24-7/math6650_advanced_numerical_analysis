{
 "cells": [
  {
   "cell_type": "markdown",
   "metadata": {
    "collapsed": false
   },
   "source": [
    "#### Feb 2 Exploration\n",
    "\n",
    "* Your name, out of 1: 1\n",
    "* Uploaded pdf file and stated name, out of 1: 1\n",
    "* Paper is in MSC 41 or 65D, out of 1: 1\n",
    "* Bibliographic information, out of 1: 1\n",
    "* Summary paragraph, out of 3: 3\n",
    "* Paragraph in unfamiliar topic, out of 3: 3\n",
    "\n",
    "Total, out of 10: "
   ]
  },
  {
   "cell_type": "markdown",
   "metadata": {
    "collapsed": false
   },
   "source": [
    "## Exploration\n",
    "### By Daniel Safavisohi"
   ]
  },
  {
   "cell_type": "raw",
   "metadata": {
    "collapsed": false
   },
   "source": [
    "@article {MR4689907,\n",
    "    AUTHOR = {Tian, Yan and Liu, Guidong and Kong, Desong},\n",
    "     TITLE = {Superconvergence points for higher-order derivative\n",
    "              interpolation and its applications in spectral collocation\n",
    "              method},\n",
    "   JOURNAL = {J. Math. Anal. Appl.},\n",
    "  FJOURNAL = {Journal of Mathematical Analysis and Applications},\n",
    "    VOLUME = {534},\n",
    "      YEAR = {2024},\n",
    "    NUMBER = {2},\n",
    "     PAGES = {128085},\n",
    "      ISSN = {0022-247X,1096-0813},\n",
    "   MRCLASS = {65L60 (41 65D15)},\n",
    "  MRNUMBER = {4689907},\n",
    "       DOI = {10.1016/j.jmaa.2024.128085},\n",
    "       URL = {https://doi.org/10.1016/j.jmaa.2024.128085},\n",
    "}"
   ]
  },
  {
   "cell_type": "markdown",
   "metadata": {
    "collapsed": false
   },
   "source": [
    "File name is paper#3.pdf"
   ]
  },
  {
   "cell_type": "markdown",
   "metadata": {
    "collapsed": false
   },
   "source": [
    "## Summary"
   ]
  },
  {
   "cell_type": "markdown",
   "metadata": {
    "collapsed": false
   },
   "source": [
    "The paper's focus is on exploring superconvergence in higher-order derivative of Legendre polynomials. In the first part of the paper, the authors explain properties of Legendre polynomial and it’s integral. In the next part, they discuss superconvergence for different orders of derivative interpolation (fourth, fifth, and sixth orders, respectively). It involves a detailed exploration of interpolants for these derivatives and the identification of superconvergence points. Next, the authors apply their findings to spectral collocation method and demonstrate how superconvergence can enhance the accuracy of solutions in differential equations. They use a variety of visualization to compare the associated error from different methods. Finally, the authors emphasize the significance of superconvergence in higher-order derivative interpolation by comparing the result with the ones achieved under the uniform norm. They conclude that the accuracy of superconvergence points stem from high order derivative with a well conditioned spectral collocation method is higher than the ones achieved from\n",
    " conventional method. The last part of the paper is allocated to the proof of properties that mentioned in the first and second part of the paper.\n"
   ]
  },
  {
   "cell_type": "markdown",
   "metadata": {
    "collapsed": false
   },
   "source": [
    "## A Concept or Method"
   ]
  },
  {
   "cell_type": "markdown",
   "metadata": {
    "collapsed": false
   },
   "source": [
    "### Spectral collocation method"
   ]
  },
  {
   "cell_type": "markdown",
   "metadata": {
    "collapsed": false
   },
   "source": [
    "The spectral collocation method is a numerical technique that is widely used to solve differential equations. It involves approximating the solution by a sum of functions (often family of functions like polynomials) and focuses on satisfying the differential equation at a set of points, known as collocation points. These points are usually the roots of orthogonal polynomials like Chebyshev or Legendre polynomials. The method is known for its high accuracy, particularly for problems with smooth solutions, and is extensively used in application of computational mathematics in physics and engineering."
   ]
  },
  {
   "cell_type": "markdown",
   "metadata": {
    "collapsed": false
   },
   "source": [
    "Referecnecs:\n",
    "- https://cornerstone.lib.mnsu.edu/cgi/viewcontent.cgi?article=1183&context=etds#:~:text=The%20spectral%20collocation%20method%20is,of%20infinitely%20differentiable%20basis%20functions.\n",
    "- https://en.wikipedia.org/wiki/Spectral_method\n"
   ]
  },
  {
   "cell_type": "code",
   "execution_count": 0,
   "metadata": {
    "collapsed": false
   },
   "outputs": [
   ],
   "source": [
   ]
  }
 ],
 "metadata": {
  "kernelspec": {
   "argv": [
    "/usr/bin/python3",
    "-m",
    "ipykernel",
    "--HistoryManager.enabled=False",
    "--matplotlib=inline",
    "-c",
    "%config InlineBackend.figure_formats = set(['retina'])\nimport matplotlib; matplotlib.rcParams['figure.figsize'] = (12, 7)",
    "-f",
    "{connection_file}"
   ],
   "display_name": "Python 3 (system-wide)",
   "env": {
   },
   "language": "python",
   "metadata": {
    "cocalc": {
     "description": "Python 3 programming language",
     "priority": 100,
     "url": "https://www.python.org/"
    }
   },
   "name": "python3",
   "resource_dir": "/ext/jupyter/kernels/python3"
  }
 },
 "nbformat": 4,
 "nbformat_minor": 4
}