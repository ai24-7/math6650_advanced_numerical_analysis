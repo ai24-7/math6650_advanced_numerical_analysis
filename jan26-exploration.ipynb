{
 "cells": [
  {
   "cell_type": "markdown",
   "metadata": {
    "collapsed": false
   },
   "source": [
    "* Your name, out of 1: 1\n",
    "* Uploaded pdf file, out of 1: 1\n",
    "* Stated name of pdf file, out of 1: 1\n",
    "* Paper is in MSC 41 or 65D, out of 1: 1\n",
    "* Bibliographic information, out of 2: 2\n",
    "* Summary paragraph, out of 4: 4\n",
    "\n",
    "Total, out of 10: 10\n",
    "    "
   ]
  },
  {
   "cell_type": "markdown",
   "metadata": {
    "collapsed": false
   },
   "source": [
    "# Exploration \n",
    "## By Daniel Safavisohi"
   ]
  },
  {
   "cell_type": "raw",
   "metadata": {
    "collapsed": false
   },
   "source": [
    "@article {MR4473774,\n",
    "    AUTHOR = {Sastre, Jorge and Ib\\'{a}\\~{n}ez, Javier},\n",
    "     TITLE = {On the backward and forward error of approximations of\n",
    "              analytic functions and applications to the computation of\n",
    "              matrix functions},\n",
    "   JOURNAL = {J. Comput. Appl. Math.},\n",
    "  FJOURNAL = {Journal of Computational and Applied Mathematics},\n",
    "    VOLUME = {419},\n",
    "      YEAR = {2023},\n",
    "     PAGES = {Paper No. 114706, 18},\n",
    "      ISSN = {0377-0427,1879-1778},\n",
    "   MRCLASS = {65F60 (15A16 26C15 41-04 41A10)},\n",
    "  MRNUMBER = {4473774},\n",
    "MRREVIEWER = {Chun-Yueh\\ Chiang},\n",
    "       DOI = {10.1016/j.cam.2022.114706},\n",
    "       URL = {https://doi.org/10.1016/j.cam.2022.114706},\n",
    "}"
   ]
  },
  {
   "cell_type": "markdown",
   "metadata": {
    "collapsed": false
   },
   "source": [
    "File name is paper#2.pdf"
   ]
  },
  {
   "cell_type": "markdown",
   "metadata": {
    "collapsed": false
   },
   "source": [
    "## Summary\n",
    "This paper introduces a new formula to express the forward error of Taylor approximations of analytical functions in terms of their backward error, considering exact arithmetic for both types of errors. It emphasizes the importance of backward error analysis in developing algorithms for computing matrix functions using Padé and Taylor approximations. A novel method is presented to compute the backward error as a power series, centered at the same expansion point as the Taylor approximation. This method is also applicable to Padé approximations, offering a broader scope for error analysis in approximation algorithms. The author goes on to derive the formula for forward error in terms of backward error, and provide numerical examples, and apply the method to matrix function computations. A MATLAB implementation is provided for computing the backward error series for both Taylor and Padé approximations, based on the developed method. The MATLAB function's effectiveness is demonstrated through test examples for functions with well-known backward error analyses.Three specific examples are given to show the application of the backward error series computation in matrix functions, highlighting the new method's general applicability compared to previous approaches.The paper also presents a comparison of the new general method for obtaining backward error with particular methods for matrix functions, including the matrix cosine cos(A). Additionally, the author applies the new method to Padé approximations of the function cosh(√x), and compared it to existing methods.\n"
   ]
  },
  {
   "cell_type": "code",
   "execution_count": 0,
   "metadata": {
    "collapsed": false
   },
   "outputs": [
   ],
   "source": [
   ]
  }
 ],
 "metadata": {
  "kernelspec": {
   "argv": [
    "/usr/bin/python3",
    "-m",
    "ipykernel",
    "--HistoryManager.enabled=False",
    "--matplotlib=inline",
    "-c",
    "%config InlineBackend.figure_formats = set(['retina'])\nimport matplotlib; matplotlib.rcParams['figure.figsize'] = (12, 7)",
    "-f",
    "{connection_file}"
   ],
   "display_name": "Python 3 (system-wide)",
   "env": {
   },
   "language": "python",
   "metadata": {
    "cocalc": {
     "description": "Python 3 programming language",
     "priority": 100,
     "url": "https://www.python.org/"
    }
   },
   "name": "python3",
   "resource_dir": "/ext/jupyter/kernels/python3"
  }
 },
 "nbformat": 4,
 "nbformat_minor": 4
}