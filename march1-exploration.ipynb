{
 "cells": [
  {
   "cell_type": "markdown",
   "metadata": {
    "collapsed": false
   },
   "source": [
    "#### Mar 1 Exploration\n",
    "\n",
    "* Your name, uploaded pdf file and stated its name, out of 1: 1\n",
    "* Bibliographic information, with paper in MSC 41 or 65D, out of 1: 1\n",
    "* Summary paragraph, out of 2: 2\n",
    "* Paragraph on unfamiliar topic, out of 2: 2\n",
    "* Identify specific claims, out of 1: 1\n",
    "* List of proofs you might check, out of 1: 1 None, so not suitable for a project.\n",
    "* List of numerical experiments you might reproduce, out of 1: 1 Would be too hard to reproduce for a project.\n",
    "* Python function, out of 1: 1\n",
    "\n",
    "Total, out of 10: 10"
   ]
  },
  {
   "cell_type": "markdown",
   "metadata": {
    "collapsed": false
   },
   "source": [
    "## March1 exploration\n",
    "### By Daniel Safavisohi"
   ]
  },
  {
   "cell_type": "code",
   "execution_count": 4,
   "metadata": {
    "collapsed": false
   },
   "outputs": [
   ],
   "source": [
    "# Info about paper"
   ]
  },
  {
   "cell_type": "raw",
   "metadata": {
    "collapsed": false
   },
   "source": [
    "@article {MR4674897,\n",
    "    AUTHOR = {Jasperson, Benjamin A. and Wood, Michael G. and Johnson,\n",
    "              Harley T.},\n",
    "     TITLE = {A dual neural network approach to topology optimization for\n",
    "              thermal-electromagnetic device design},\n",
    "   JOURNAL = {Comput.-Aided Des.},\n",
    "  FJOURNAL = {Computer-Aided Design},\n",
    "    VOLUME = {168},\n",
    "      YEAR = {2024},\n",
    "     PAGES = {Paper No. 103665, 11},\n",
    "      ISSN = {0010-4485,1879-2685},\n",
    "   MRCLASS = {74P15 (65D17)},\n",
    "  MRNUMBER = {4674897},\n",
    "       DOI = {10.1016/j.cad.2023.103665},\n",
    "       URL = {https://doi.org/10.1016/j.cad.2023.103665},\n",
    "}"
   ]
  },
  {
   "cell_type": "markdown",
   "metadata": {
    "collapsed": false
   },
   "source": [
    "file name is paper#7.pdf"
   ]
  },
  {
   "cell_type": "markdown",
   "metadata": {
    "collapsed": false
   },
   "source": [
    "### Summary\n",
    "The paper begins with a discussion around challenges of topology optimization in multiphysics problem (problems with dual objective functions). The authors describe the concept and methods of topology optimization in engineering and the application of machine learning models in this field. Then, the authors demonstrate their method by describing shutter constraints and metrics, optimization flow and neural network architecture. Their proposed approach balances computational efficiency with accuracy and offers potential for broader applications in engineering design. Next, they further discuss the challenges to make a suitable dataset and explain the structure of PerfNN and TopOptNN models. Finally, they show the result of their experiment in a variety of figures and conclude the advantages and limitations of their method."
   ]
  },
  {
   "cell_type": "markdown",
   "metadata": {
    "collapsed": false
   },
   "source": [
    "### New concept or method\n",
    "#### Topology optimization\n",
    "In order to maximize system performance, topology optimization is a mathematical technique that optimizes material layout inside a particular design space for a given combination of loads, boundary conditions, and restrictions. In contrast to shape and sizing optimization, topology optimization allows the design to take on any shape inside the design space; it does not deal with preset configurations. The design performance is assessed using the finite element method (FEM) in the traditional topology optimization formulation. Either gradient-based mathematical programming approaches, such the optimality criteria algorithm and the moving asymptote method, or non-gradient-based algorithms, like genetic algorithms, are used to optimize the design.\n",
    "\n",
    "Reference: https://en.wikipedia.org/wiki/Topology_optimization"
   ]
  },
  {
   "cell_type": "markdown",
   "metadata": {
    "collapsed": false
   },
   "source": [
    "### Specific claim\n",
    "The authors believe that dual neural network can be used effectively to optimize a thermal-electromagnetic design while considering manufacturing constraints."
   ]
  },
  {
   "cell_type": "markdown",
   "metadata": {
    "collapsed": false
   },
   "source": [
    "### List of proofs\n",
    "This paper is focused on the application of machine learning in topology optimization and it does not contain any proofs."
   ]
  },
  {
   "cell_type": "markdown",
   "metadata": {
    "collapsed": false
   },
   "source": [
    "### List of numerical experiments\n",
    "- The authors implemented two neural netwrok models, namely topology optimization neural network (TopOptNN) and performance neural network (PerfNN) on a dataset containing 15,873 randomly generated designs. The structure of each model is represented in figures 2 and 3, respectively. Results can be found in figures 5-9.\n"
   ]
  },
  {
   "cell_type": "markdown",
   "metadata": {
    "collapsed": false
   },
   "source": [
    "### Useful python function\n",
    "A useful package for graphing 3-D plot is matplotlib. \n",
    "here is a sample code (source: https://matplotlib.org/stable/gallery/mplot3d/box3d.html#sphx-glr-gallery-mplot3d-box3d-py):"
   ]
  },
  {
   "cell_type": "code",
   "execution_count": 3,
   "metadata": {
    "collapsed": false
   },
   "outputs": [
    {
     "data": {
      "image/png": "[encoded data removed]",
      "text/plain": [
       "<Figure size 360x288 with 2 Axes>"
      ]
     },
     "metadata": {
      "image/png": {
       "height": 238,
       "width": 314
      },
      "needs_background": "light"
     }
    }
   ],
   "source": [
    "import matplotlib.pyplot as plt\n",
    "import numpy as np\n",
    "\n",
    "# Define dimensions\n",
    "Nx, Ny, Nz = 100, 300, 500\n",
    "X, Y, Z = np.meshgrid(np.arange(Nx), np.arange(Ny), -np.arange(Nz))\n",
    "\n",
    "# Create fake data\n",
    "data = (((X+100)**2 + (Y-20)**2 + 2*Z)/1000+1)\n",
    "\n",
    "kw = {\n",
    "    'vmin': data.min(),\n",
    "    'vmax': data.max(),\n",
    "    'levels': np.linspace(data.min(), data.max(), 10),\n",
    "}\n",
    "\n",
    "# Create a figure with 3D ax\n",
    "fig = plt.figure(figsize=(5, 4))\n",
    "ax = fig.add_subplot(111, projection='3d')\n",
    "\n",
    "# Plot contour surfaces\n",
    "_ = ax.contourf(\n",
    "    X[:, :, 0], Y[:, :, 0], data[:, :, 0],\n",
    "    zdir='z', offset=0, **kw\n",
    ")\n",
    "_ = ax.contourf(\n",
    "    X[0, :, :], data[0, :, :], Z[0, :, :],\n",
    "    zdir='y', offset=0, **kw\n",
    ")\n",
    "C = ax.contourf(\n",
    "    data[:, -1, :], Y[:, -1, :], Z[:, -1, :],\n",
    "    zdir='x', offset=X.max(), **kw\n",
    ")\n",
    "# --\n",
    "\n",
    "\n",
    "# Set limits of the plot from coord limits\n",
    "xmin, xmax = X.min(), X.max()\n",
    "ymin, ymax = Y.min(), Y.max()\n",
    "zmin, zmax = Z.min(), Z.max()\n",
    "ax.set(xlim=[xmin, xmax], ylim=[ymin, ymax], zlim=[zmin, zmax])\n",
    "\n",
    "# Plot edges\n",
    "edges_kw = dict(color='0.4', linewidth=1, zorder=1e3)\n",
    "ax.plot([xmax, xmax], [ymin, ymax], 0, **edges_kw)\n",
    "ax.plot([xmin, xmax], [ymin, ymin], 0, **edges_kw)\n",
    "ax.plot([xmax, xmax], [ymin, ymin], [zmin, zmax], **edges_kw)\n",
    "\n",
    "# Set labels and zticks\n",
    "ax.set(\n",
    "    xlabel='X [km]',\n",
    "    ylabel='Y [km]',\n",
    "    zlabel='Z [m]',\n",
    "    zticks=[0, -150, -300, -450],\n",
    ")\n",
    "\n",
    "# Set zoom and angle view\n",
    "ax.view_init(40, -30, 0)\n",
    "ax.set_box_aspect(None, zoom=0.9)\n",
    "\n",
    "# Colorbar\n",
    "fig.colorbar(C, ax=ax, fraction=0.02, pad=0.1, label='Name [units]')\n",
    "\n",
    "# Show Figure\n",
    "plt.show()\n",
    "\n",
    "    "
   ]
  },
  {
   "cell_type": "code",
   "execution_count": 0,
   "metadata": {
    "collapsed": false
   },
   "outputs": [
   ],
   "source": [
   ]
  }
 ],
 "metadata": {
  "kernelspec": {
   "argv": [
    "/usr/bin/python3",
    "-m",
    "ipykernel",
    "--HistoryManager.enabled=False",
    "--matplotlib=inline",
    "-c",
    "%config InlineBackend.figure_formats = set(['retina'])\nimport matplotlib; matplotlib.rcParams['figure.figsize'] = (12, 7)",
    "-f",
    "{connection_file}"
   ],
   "display_name": "Python 3 (system-wide)",
   "env": {
   },
   "language": "python",
   "metadata": {
    "cocalc": {
     "description": "Python 3 programming language",
     "priority": 100,
     "url": "https://www.python.org/"
    }
   },
   "name": "python3",
   "resource_dir": "/ext/jupyter/kernels/python3"
  }
 },
 "nbformat": 4,
 "nbformat_minor": 4
}