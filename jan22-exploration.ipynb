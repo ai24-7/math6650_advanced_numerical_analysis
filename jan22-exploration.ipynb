{
 "cells": [
  {
   "cell_type": "markdown",
   "metadata": {
    "collapsed": false
   },
   "source": [
    "* Your name, out of 1: 1\n",
    "* Uploaded pdf file, out of 2: 2\n",
    "* Stated name of pdf file, out of 1: 1\n",
    "* Paper is in MSC 41 or 65D, out of 2: 2\n",
    "* Bibliographic information, out of 4: 4\n",
    "\n",
    "Total, out of 10: 10\n",
    "    "
   ]
  },
  {
   "cell_type": "markdown",
   "metadata": {
    "collapsed": false
   },
   "source": [
    "## Daniel Safavisohi"
   ]
  },
  {
   "cell_type": "raw",
   "metadata": {
    "collapsed": false
   },
   "source": [
    "@article {MR4675103,\n",
    "    AUTHOR = {Massit, Hafida and Rossafi, Mohamed and Park, Choonkil},\n",
    "     TITLE = {Some relations between continuous generalized frames},\n",
    "   JOURNAL = {Afr. Mat.},\n",
    "  FJOURNAL = {Afrika Matematika},\n",
    "    VOLUME = {35},\n",
    "      YEAR = {2024},\n",
    "    NUMBER = {1},\n",
    "     PAGES = {12},\n",
    "      ISSN = {1012-9405,2190-7668},\n",
    "   MRCLASS = {42C15 (41A58 46C05)},\n",
    "  MRNUMBER = {4675103},\n",
    "       DOI = {10.1007/s13370-023-01157-2},\n",
    "       URL = {https://doi.org/10.1007/s13370-023-01157-2},\n",
    "}"
   ]
  },
  {
   "cell_type": "markdown",
   "metadata": {
    "collapsed": false
   },
   "source": [
    "File name associated to my paper is hw1-paper.pdf."
   ]
  },
  {
   "cell_type": "code",
   "execution_count": 0,
   "metadata": {
    "collapsed": false
   },
   "outputs": [
   ],
   "source": [
   ]
  }
 ],
 "metadata": {
  "kernelspec": {
   "argv": [
    "/usr/bin/python3",
    "-m",
    "ipykernel",
    "--HistoryManager.enabled=False",
    "--matplotlib=inline",
    "-c",
    "%config InlineBackend.figure_formats = set(['retina'])\nimport matplotlib; matplotlib.rcParams['figure.figsize'] = (12, 7)",
    "-f",
    "{connection_file}"
   ],
   "display_name": "Python 3 (system-wide)",
   "env": {
   },
   "language": "python",
   "metadata": {
    "cocalc": {
     "description": "Python 3 programming language",
     "priority": 100,
     "url": "https://www.python.org/"
    }
   },
   "name": "python3",
   "resource_dir": "/ext/jupyter/kernels/python3"
  }
 },
 "nbformat": 4,
 "nbformat_minor": 4
}