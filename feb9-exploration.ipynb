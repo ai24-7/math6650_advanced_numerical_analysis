{
 "cells": [
  {
   "cell_type": "markdown",
   "metadata": {
    "collapsed": false
   },
   "source": [
    "#### Feb 9 Exploration\n",
    "\n",
    "* Your name, out of 1: 1\n",
    "* Uploaded pdf file and stated name, out of 1: 1\n",
    "* Bibliographic information, with paper in MSC 41 or 65D, out of 1: 1\n",
    "* Summary paragraph, out of 2: 2\n",
    "* Paragraph on unfamiliar topic, out of 2: 2\n",
    "* Identify specific claims, out of 3: 3\n",
    "\n",
    "Total, out of 10: 10"
   ]
  },
  {
   "cell_type": "markdown",
   "metadata": {
    "collapsed": false
   },
   "source": [
    "## Feb 9 Exploration\n",
    "### By Daniel Safavisohi"
   ]
  },
  {
   "cell_type": "raw",
   "metadata": {
    "collapsed": false
   },
   "source": [
    "@article {MR4630305,\n",
    "    AUTHOR = {Ixaru, L. Gr.},\n",
    "     TITLE = {Exponential fitting for interpolation of oscillatory\n",
    "              functions. {A} numerical approach},\n",
    "   JOURNAL = {J. Comput. Appl. Math.},\n",
    "  FJOURNAL = {Journal of Computational and Applied Mathematics},\n",
    "    VOLUME = {437},\n",
    "      YEAR = {2024},\n",
    "     PAGES = {Paper No. 115479, 8},\n",
    "      ISSN = {0377-0427,1879-1778},\n",
    "   MRCLASS = {65D05 (33-04 65D10)},\n",
    "  MRNUMBER = {4630305},\n",
    "       DOI = {10.1016/j.cam.2023.115479},\n",
    "       URL = {https://doi.org/10.1016/j.cam.2023.115479},\n",
    "}"
   ]
  },
  {
   "cell_type": "markdown",
   "metadata": {
    "collapsed": false
   },
   "source": [
    "File name is paper#4.pdf"
   ]
  },
  {
   "cell_type": "markdown",
   "metadata": {
    "collapsed": false
   },
   "source": [
    "### Summary"
   ]
  },
  {
   "cell_type": "markdown",
   "metadata": {
    "collapsed": false
   },
   "source": [
    "This paper presents a numerical approach for interpolating the first derivative of oscillatory functions. The work focuses on functions with a pronounced oscillatory behavior, exemplified as y(x) = yc(x)cos(ωx) + ys(x)sin(ωx), where ω represents the known frequency. Such functions are often encountered in applications like quantum mechanics, specifically in solving the Schrödinger equation numerically. The study utilizes exponential fitting, a technique for generating approximation formulas in areas like numerical differentiation, interpolation, and solving differential/integral equations.\n",
    "The author believes that traditional approaches in exponential fitting involve deriving formula weights analytically, leading to lengthy and impractical expressions. This paper proposes a purely numerical approach, avoiding the need for these complex analytic expressions. The paper goes on to introduce operator L acting on y(x) and utilizes a set of linear independent solutions of a reference differential equation to develop the interpolation problem. Next, a special regularization procedure is detailed for situations where the lambda values are closely packed or identical, which is essential for the numerical stability of the solution. In addition, the author elaborates on the procedure for computing the weights wk1 and wk2 numerically.\n",
    "The experiments designed by the author demonstrate superior accuracy of the new ω-dependent procedure over traditional polynomial fitting methods. Tests were conducted to observe the error evolution across the interpolation interval. Finally the paper discusses the relevance of this approach in various computational areas like multistep or Runge-Kutta algorithms for differential equations, integral equations, and least squares fits, highlighting its practical applications.\n"
   ]
  },
  {
   "cell_type": "markdown",
   "metadata": {
    "collapsed": false
   },
   "source": [
    "### A new concept or method"
   ]
  },
  {
   "cell_type": "markdown",
   "metadata": {
    "collapsed": false
   },
   "source": [
    "#### Exponential fitting for interpolating oscillatory functions."
   ]
  },
  {
   "cell_type": "markdown",
   "metadata": {
    "collapsed": false
   },
   "source": [
    "The author of this paper has a book on exponential fitting, where he explains how to efficiently use this method for interpolating oscillatory functions. Using operator L and adding regularization term, weight calculation process starts with a set of linear independent solutions of a reference differential equation, which is a linear homogeneous differential equation with constant coefficients. The objective is to make operator L vanish identically for a set of predetermined functions, which are solutions to the reference differential equation. Weights wk1 and wk2 are formulated based on the differences between the two sides of the interpolation formula. A key feature of the method is the regularization procedure to handle situations where lambda values are close or identical. This method is really useful for interpolating oscillatory functions. I think an easy way to implement this method is to modify pre-built functions in scipy package.\n",
    "\n",
    "Resources:\n",
    "- The author's book: https://link.springer.com/book/10.1007/978-1-4020-2100-8.\n",
    "- https://docs.scipy.org/doc/scipy/reference/generated/scipy.optimize.curve_fit.html"
   ]
  },
  {
   "cell_type": "markdown",
   "metadata": {
    "collapsed": false
   },
   "source": [
    "### Specific claim"
   ]
  },
  {
   "cell_type": "markdown",
   "metadata": {
    "collapsed": false
   },
   "source": [
    "The author asserts that his new approach provides better accuracy than polynomial fitting methods, especially as the frequency increases. Furthermore, the paper highlights the efficiency of computing weights using numerical method over analytic methods. "
   ]
  },
  {
   "cell_type": "code",
   "execution_count": 0,
   "metadata": {
    "collapsed": false
   },
   "outputs": [
   ],
   "source": [
   ]
  }
 ],
 "metadata": {
  "kernelspec": {
   "argv": [
    "/usr/bin/python3",
    "-m",
    "ipykernel",
    "--HistoryManager.enabled=False",
    "--matplotlib=inline",
    "-c",
    "%config InlineBackend.figure_formats = set(['retina'])\nimport matplotlib; matplotlib.rcParams['figure.figsize'] = (12, 7)",
    "-f",
    "{connection_file}"
   ],
   "display_name": "Python 3 (system-wide)",
   "env": {
   },
   "language": "python",
   "metadata": {
    "cocalc": {
     "description": "Python 3 programming language",
     "priority": 100,
     "url": "https://www.python.org/"
    }
   },
   "name": "python3",
   "resource_dir": "/ext/jupyter/kernels/python3"
  }
 },
 "nbformat": 4,
 "nbformat_minor": 4
}