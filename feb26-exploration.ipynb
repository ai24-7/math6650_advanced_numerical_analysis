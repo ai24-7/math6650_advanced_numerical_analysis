{
 "cells": [
  {
   "cell_type": "markdown",
   "metadata": {
    "collapsed": false
   },
   "source": [
    "#### Feb 26 Exploration\n",
    "\n",
    "* Your name, uploaded pdf file and stated its name, out of 1: 1\n",
    "* Bibliographic information, with paper in MSC 41 or 65D, out of 1: 1\n",
    "* Summary paragraph, out of 1: 1\n",
    "* Paragraph on unfamiliar topic, out of 1: 1\n",
    "* Identify specific claims, out of 2: 2\n",
    "* List of proofs you might check, out of 2: 2\n",
    "* List of numerical experiments you might reproduce, out of 2: 2\n",
    "\n",
    "Total, out of 10: 10"
   ]
  },
  {
   "cell_type": "markdown",
   "metadata": {
    "collapsed": false
   },
   "source": [
    "# Feb 26 Exploration\n",
    "## By Daniel Safavisohi"
   ]
  },
  {
   "cell_type": "raw",
   "metadata": {
    "collapsed": false
   },
   "source": [
    "@article {MR4601144,\n",
    "    AUTHOR = {Ben-Zion Vardi, Hofit and Dyn, Nira and Sharon, Nir},\n",
    "     TITLE = {Geometric {H}ermite interpolation in {$\\Bbb R^n$} by\n",
    "              refinements},\n",
    "   JOURNAL = {Adv. Comput. Math.},\n",
    "  FJOURNAL = {Advances in Computational Mathematics},\n",
    "    VOLUME = {49},\n",
    "      YEAR = {2023},\n",
    "    NUMBER = {3},\n",
    "     PAGES = {Paper No. 38, 34},\n",
    "      ISSN = {1019-7168,1572-9044},\n",
    "   MRCLASS = {65D30 (53A04 65D05 65D10 65Y99)},\n",
    "  MRNUMBER = {4601144},\n",
    "MRREVIEWER = {Peter\\ Alfeld},\n",
    "       DOI = {10.1007/s10444-023-10037-z},\n",
    "       URL = {https://doi.org/10.1007/s10444-023-10037-z},\n",
    "}"
   ]
  },
  {
   "cell_type": "markdown",
   "metadata": {
    "collapsed": false
   },
   "source": [
    "file name is paper#6.pdf"
   ]
  },
  {
   "cell_type": "markdown",
   "metadata": {
    "collapsed": false
   },
   "source": [
    "### Summary"
   ]
  },
  {
   "cell_type": "markdown",
   "metadata": {
    "collapsed": false
   },
   "source": [
    "This paper focuses on constructing operators for approximating high-dimensional curves based on geometric Hermite data that consists of point samples and their associated unit tangent vectors. The authors extend classical Hermite interpolation and introduce the new concept of Hermite average. Then they further discuss properties of Bezier average that is derived from Hermite average. The paper demonstrates the convergence of a subdivision scheme that interpolates geometric Hermite data, showing that the scheme's limit approximates the sampled curve. In the next section, the authors provide various numerical examples to illustrate the advantages of their approach. The paper concludes with a discussion on the potential future work in this field. In appendix, the authors provide proofs of some of the properties mentioned in the paper like Bezier average. "
   ]
  },
  {
   "cell_type": "markdown",
   "metadata": {
    "collapsed": false
   },
   "source": [
    "### A new concept or method"
   ]
  },
  {
   "cell_type": "markdown",
   "metadata": {
    "collapsed": false
   },
   "source": [
    "#### Hermite Interpolation"
   ]
  },
  {
   "cell_type": "markdown",
   "metadata": {
    "collapsed": false
   },
   "source": [
    "The process of finding a polynomial with the lowest degree feasible that matches the observed value of an unknown function and the observed value of its first m derivatives is known as Hermite interpolation. In other words, this interpolation not only satisfies $p(x_i) = f(x_i)$ but also $p'(x_i) = f'(x_i)$. In general, the formula for hermite interpolation can be set up as:\n",
    "$$ p(x) = \\sum_0^n \\alpha_i(x) f_i + \\sum_0^n \\beta_i(x) f_i^1 +... + \\sum_0^n \\theta_i(x) f_i^m$$\n",
    "\n",
    "\n",
    "Sources:\n",
    "- https://coast.nd.edu/jjwteach/www/www/30125/pdfnotes/lecture5_9v14.pdf\n",
    "- https://www.cs.cornell.edu/~bindel/class/cs3220-s12/notes/lec19.pdf\n",
    "- https://mathworld.wolfram.com/HermitesInterpolatingPolynomial.html\n",
    "- https://en.wikipedia.org/wiki/Hermite_interpolation\n"
   ]
  },
  {
   "cell_type": "markdown",
   "metadata": {
    "collapsed": false
   },
   "source": [
    "### Specific claim"
   ]
  },
  {
   "cell_type": "markdown",
   "metadata": {
    "collapsed": false
   },
   "source": [
    "The authors claim that the Interpolatory Hermite Bézier (IHB) scheme is G1 convergent for any initial data that satisfies certain conditions."
   ]
  },
  {
   "cell_type": "markdown",
   "metadata": {
    "collapsed": false
   },
   "source": [
    "### List of proofs"
   ]
  },
  {
   "cell_type": "markdown",
   "metadata": {
    "collapsed": false
   },
   "source": [
    "- proof of theorem 3.6 on page 15\n",
    "- proof of lemma 2.7 on page 26\n",
    "- proof of propostion 2.8 on page 26\n",
    "- proof of lemma 2.9 on page 27\n",
    "- proof of lemma 2.10 on page 27\n",
    "- proof of lemma 2.11 on page 27\n",
    "- proof of lemma 3.1 on page 28\n",
    "- proof of lemma 3.3 on page 30\n",
    "\n",
    "I think I have a good understanding of the proof provided for theorem 3.6."
   ]
  },
  {
   "cell_type": "markdown",
   "metadata": {
    "collapsed": false
   },
   "source": [
    "### List of numerical experiments"
   ]
  },
  {
   "cell_type": "markdown",
   "metadata": {
    "collapsed": false
   },
   "source": [
    "- Comparison between different modifications of LR1 in section 4.1\n",
    "- Comparison between geometric and linear Hermite interpolation in section 4.2\n",
    "- Testing the contribution of the tangent directions to the approximation in section 4.3\n",
    "- 2 different examples to measure the approximation order in section 4.4\n"
   ]
  },
  {
   "cell_type": "code",
   "execution_count": 0,
   "metadata": {
    "collapsed": false
   },
   "outputs": [
   ],
   "source": [
   ]
  }
 ],
 "metadata": {
  "kernelspec": {
   "argv": [
    "/usr/bin/python3",
    "-m",
    "ipykernel",
    "--HistoryManager.enabled=False",
    "--matplotlib=inline",
    "-c",
    "%config InlineBackend.figure_formats = set(['retina'])\nimport matplotlib; matplotlib.rcParams['figure.figsize'] = (12, 7)",
    "-f",
    "{connection_file}"
   ],
   "display_name": "Python 3 (system-wide)",
   "env": {
   },
   "language": "python",
   "metadata": {
    "cocalc": {
     "description": "Python 3 programming language",
     "priority": 100,
     "url": "https://www.python.org/"
    }
   },
   "name": "python3",
   "resource_dir": "/ext/jupyter/kernels/python3"
  }
 },
 "nbformat": 4,
 "nbformat_minor": 4
}