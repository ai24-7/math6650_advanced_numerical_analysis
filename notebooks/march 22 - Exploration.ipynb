{
 "cells": [
  {
   "cell_type": "markdown",
   "metadata": {
    "collapsed": false
   },
   "source": [
    "#### Mar 22 Exploration: Project Background topic\n",
    "\n",
    "* Identified section we have not covered, out of 2: 2\n",
    "* Outlined theorems, examples, etc. that would be useful, out of 6: 6\n",
    "* Explained why you selected those, out of 2: 2\n",
    "\n",
    "Total, out of 10: 10"
   ]
  },
  {
   "cell_type": "markdown",
   "metadata": {
    "collapsed": false
   },
   "source": [
    "# March 22 Exploration\n",
    "## By Daniel Safavisohi"
   ]
  },
  {
   "cell_type": "markdown",
   "metadata": {
    "collapsed": false
   },
   "source": [
    "### Related topics from Iske and Gautschi\n",
    "\n",
    "- Barycentric formula\n",
    "- - Section 2.2.5 of Gautschi text book\n",
    "  - In this section, the authors introduce Lagrange's formula and then use it to derive Barycentric formula. \n",
    "  - My paper is about a special case of Barycentric interpolation \\(barycentric trigonometric Hermite interpolant\\) and I think it's useful to know more about it.\n",
    "- Hermite interpolation\n",
    "- - Section 2.2.7 of Gautschi and section 2.4 of Iske \\(we have already covered this topic\\).\n",
    "  - It is relevant to the topic of my paper.\n",
    "\n"
   ]
  },
  {
   "cell_type": "code",
   "execution_count": 0,
   "metadata": {
    "collapsed": false
   },
   "outputs": [
   ],
   "source": [
   ]
  },
  {
   "cell_type": "code",
   "execution_count": 0,
   "metadata": {
    "collapsed": false
   },
   "outputs": [
   ],
   "source": [
   ]
  },
  {
   "cell_type": "code",
   "execution_count": 0,
   "metadata": {
    "collapsed": false
   },
   "outputs": [
   ],
   "source": [
   ]
  }
 ],
 "metadata": {
  "kernelspec": {
   "argv": [
    "/usr/bin/python3",
    "-m",
    "ipykernel",
    "--HistoryManager.enabled=False",
    "--matplotlib=inline",
    "-c",
    "%config InlineBackend.figure_formats = set(['retina'])\nimport matplotlib; matplotlib.rcParams['figure.figsize'] = (12, 7)",
    "-f",
    "{connection_file}"
   ],
   "display_name": "Python 3 (system-wide)",
   "env": {
   },
   "language": "python",
   "metadata": {
    "cocalc": {
     "description": "Python 3 programming language",
     "priority": 100,
     "url": "https://www.python.org/"
    }
   },
   "name": "python3",
   "resource_dir": "/ext/jupyter/kernels/python3"
  }
 },
 "nbformat": 4,
 "nbformat_minor": 4
}