{
 "cells": [
  {
   "cell_type": "markdown",
   "metadata": {
    "collapsed": false
   },
   "source": [
    "#### Feb 16 Exploration\n",
    "\n",
    "* Your name, uploaded pdf file and stated its name, out of 1: 1\n",
    "* Bibliographic information, with paper in MSC 41 or 65D, out of 1: 1\n",
    "* Summary paragraph, out of 2: 2\n",
    "* Paragraph on unfamiliar topic, out of 2: 2\n",
    "* Identify specific claims, out of 2: 2\n",
    "* List of proofs you might check, out of 2: 2\n",
    "\n",
    "Total, out of 10: 10"
   ]
  },
  {
   "cell_type": "markdown",
   "metadata": {
    "collapsed": false
   },
   "source": [
    "# Feb 16 Exploration\n",
    "## By Daniel Safavisohi"
   ]
  },
  {
   "cell_type": "raw",
   "metadata": {
    "collapsed": false
   },
   "source": [
    "@article {MR4690001,\n",
    "    AUTHOR = {Mainar, E. and Pe\\~{n}a, J. M. and Rubio, B.},\n",
    "     TITLE = {High relative accuracy through {N}ewton bases},\n",
    "   JOURNAL = {Numer. Algorithms},\n",
    "  FJOURNAL = {Numerical Algorithms},\n",
    "    VOLUME = {95},\n",
    "      YEAR = {2024},\n",
    "    NUMBER = {2},\n",
    "     PAGES = {747--772},\n",
    "      ISSN = {1017-1398,1572-9265},\n",
    "   MRCLASS = {65F05 (65D15)},\n",
    "  MRNUMBER = {4690001},\n",
    "       DOI = {10.1007/s11075-023-01588-9},\n",
    "       URL = {https://doi.org/10.1007/s11075-023-01588-9},\n",
    "}"
   ]
  },
  {
   "cell_type": "raw",
   "metadata": {
    "collapsed": false
   },
   "source": [
    "file name is paper #5.pdf"
   ]
  },
  {
   "cell_type": "markdown",
   "metadata": {
    "collapsed": false
   },
   "source": [
    "### Summary"
   ]
  },
  {
   "cell_type": "markdown",
   "metadata": {
    "collapsed": false
   },
   "source": [
    "This paper has 26 pages and presents an in-depth study on improving numerical computations using Newton polynomial bases. It focuses on achieving high relative accuracy in algebraic problems and explores the total positivity of matrices linked to Newton bases. The authors demonstrate how the sign consistency of nodes in Newton bases impacts the total positivity of matrices, leading to more accurate computations in various algebraic tasks such as calculating eigenvalues, singular values, and solving linear systems. In addition, the authors discuss extended version of their method to include Stirling matrices and Touchard polynomial bases. They also provide numerical experiments to confirm the efficacy of their proposed bidiagonal factorizations in achieving accurate solutions in practical applications. This research addresses the challenges posed by ill-conditioned matrices in traditional numerical methods and offers a way to avoid accumulated errors."
   ]
  },
  {
   "cell_type": "markdown",
   "metadata": {
    "collapsed": false
   },
   "source": [
    "### A new concept or method"
   ]
  },
  {
   "cell_type": "markdown",
   "metadata": {
    "collapsed": false
   },
   "source": [
    "#### Touchard polynomials"
   ]
  },
  {
   "cell_type": "markdown",
   "metadata": {
    "collapsed": false
   },
   "source": [
    "Touchard polynomials are a series of polynomials defined by an exponential generating function \n",
    "$$ e^{x(e^t-1)} $$\n",
    "where x is a variable and t is the polynomial index. These polynomials can be described through a recurrence relation, allowing for iterative calculation. \n",
    "This series of polynomial can also be shown like this:\n",
    "$$ T_n(x) = \\sum_0^n{S(n,k)x^k}$$\n",
    "Their coefficients (S(n,k)) represent the number of ways to partition a set of n elements into k non-empty subsets (Stirling number of the second kind).\n",
    "The first three terms of Touchard polynomials are:\n",
    "$$T_1(x) = x $$\n",
    "$$ T_2(x) = x^2 + x$$\n",
    "$$ T_3(x) = x^3 + 3x^2 + x $$\n",
    "References: \n",
    "- https://en.wikipedia.org/wiki/Touchard_polynomials\n",
    "- https://en.wikipedia.org/wiki/Stirling_numbers_of_the_second_kind"
   ]
  },
  {
   "cell_type": "markdown",
   "metadata": {
    "collapsed": false
   },
   "source": [
    "### Specific claim"
   ]
  },
  {
   "cell_type": "markdown",
   "metadata": {
    "collapsed": false
   },
   "source": [
    "The authors claim that If the nodes have the same sign, algebraic issues linked to certain matrices can be accurately solved using bidiagonal factorization, regardless of the matrix's lack of total positivity. Additionally, they claim that this approach can be applied to Stirling matrices, allowing highly accurate solotions to algebraic problems involving collocation and Wronskian matrices of Touchard polynomial bases."
   ]
  },
  {
   "cell_type": "markdown",
   "metadata": {
    "collapsed": false
   },
   "source": [
    "### List of proofs"
   ]
  },
  {
   "cell_type": "markdown",
   "metadata": {
    "collapsed": false
   },
   "source": [
    "1. proof of theorem 2 on page 752\n",
    "2. proof of theorem 3 on page 755\n",
    "3. proof of corollary 4 on page 757\n",
    "4. proof of theorem 7 on page 759\n",
    "5. proof of theorem 11 on page 763\n",
    "6. proof of theorem 12 on page 764\n",
    "\n",
    "I understand proof of theorem 12 as the steps are built on top of formula 54 and 55 and it is kind of a result of theorem 11. "
   ]
  },
  {
   "cell_type": "code",
   "execution_count": 0,
   "metadata": {
    "collapsed": false
   },
   "outputs": [
   ],
   "source": [
   ]
  },
  {
   "cell_type": "code",
   "execution_count": 0,
   "metadata": {
    "collapsed": false
   },
   "outputs": [
   ],
   "source": [
   ]
  },
  {
   "cell_type": "code",
   "execution_count": 0,
   "metadata": {
    "collapsed": false
   },
   "outputs": [
   ],
   "source": [
   ]
  }
 ],
 "metadata": {
  "kernelspec": {
   "argv": [
    "/usr/bin/python3",
    "-m",
    "ipykernel",
    "--HistoryManager.enabled=False",
    "--matplotlib=inline",
    "-c",
    "%config InlineBackend.figure_formats = set(['retina'])\nimport matplotlib; matplotlib.rcParams['figure.figsize'] = (12, 7)",
    "-f",
    "{connection_file}"
   ],
   "display_name": "Python 3 (system-wide)",
   "env": {
   },
   "language": "python",
   "metadata": {
    "cocalc": {
     "description": "Python 3 programming language",
     "priority": 100,
     "url": "https://www.python.org/"
    }
   },
   "name": "python3",
   "resource_dir": "/ext/jupyter/kernels/python3"
  }
 },
 "nbformat": 4,
 "nbformat_minor": 4
}