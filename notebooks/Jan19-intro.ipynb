{
 "cells": [
  {
   "cell_type": "markdown",
   "metadata": {
    "collapsed": false
   },
   "source": [
    "- Autobiography, out of 20: 20\n",
    "- $\\LaTeX$ derivative, out of 5: 5\n",
    "- $\\LaTeX$ matrix, out of 3: 3\n",
    "- $\\LaTeX$ inline, out of 2: 2\n",
    "- $\\LaTeX$ aligned integrals, out of 10: 10\n",
    "\n",
    "Total, out of 40: 40\n",
    "\n"
   ]
  },
  {
   "cell_type": "markdown",
   "metadata": {
    "collapsed": false,
    "jupyter": {
     "outputs_hidden": false
    }
   },
   "source": [
    "# January 19 2024- Introduction \n",
    "\n",
    "by Daniel Safavisohi\n",
    "\n"
   ]
  },
  {
   "cell_type": "markdown",
   "metadata": {
    "collapsed": false,
    "jupyter": {
     "outputs_hidden": false
    },
    "tags": [
    ]
   },
   "source": [
    "## Mathematical Autobiography"
   ]
  },
  {
   "cell_type": "markdown",
   "metadata": {
    "collapsed": false,
    "jupyter": {
     "outputs_hidden": false
    }
   },
   "source": [
    "### Background\n",
    "\n",
    "When I was eight years old, I was going to become an artist!! My family talked me out of it and forced me to study mathematics! Soon, I've got my bachelor's degree in chemical engineering from the best university of Iran, but I didn't like it. Later, I made up my mind and decided to obtain practical skills in statistics. Following year, I've got my master's degree in economics, but it turned out it was not enough to find a high paid job. So, I left my job at Rabobank, where I was working for about a year as a data analyst in its headquarter in Sydney, and decided to continue my eduaction in a way that I can get a good job in future.\n",
    "\n",
    "I am now a graduate student in the math program studying computational track.\n",
    "\n",
    "My favorite math class was applied statistics because it helped me understand the application of statistics in finance and economics.\n",
    "\n",
    "What I want to get out of this class is to learn to use numerical methods in an efficient way for a wide range of issues.\n",
    "\n"
   ]
  },
  {
   "cell_type": "markdown",
   "metadata": {
    "collapsed": false
   },
   "source": [
    "### Theoretical Math\n",
    "\n",
    "I have taken the following classes that involve proofs:\n",
    "\n",
    "* Econometrics\n",
    "* Calculus 1\n",
    "* Calculus 2\n",
    "\n",
    "My experience with various mathematics topics is\n",
    "\n",
    "| Topic | Experience (much/some/none) |\n",
    "|-------|-----------------------------|\n",
    "| Linear Algebra | much |\n",
    "| Multivariate Calc | some |\n",
    "| Analysis | some |\n",
    "| Differential Equations | much |\n",
    "| Proofs | some |"
   ]
  },
  {
   "cell_type": "markdown",
   "metadata": {
    "collapsed": false,
    "jupyter": {
     "outputs_hidden": false
    }
   },
   "source": [
    "### Numerical Analysis\n",
    "\n",
    "I have taken the following Mathematics courses that used some\n",
    "numerical methods:\n",
    "\n",
    "* Numerical Computation\n",
    "* Engineering Mathematics   \n",
    "* Introduction to Numerical Analysis\n",
    "\n",
    "\n",
    "I most enjoyed numerical computation because it allows me to solve problems that have no closed form solution.\n",
    "\n",
    "I had some trouble with proofs as I hate them.\n",
    "\n",
    "I have not used numerical analysis for a project in any of the courses above!   "
   ]
  },
  {
   "cell_type": "markdown",
   "metadata": {
    "collapsed": false,
    "jupyter": {
     "outputs_hidden": false
    }
   },
   "source": [
    "### Computing\n",
    "\n",
    "I have taken the following computing-related courses:\n",
    "\n",
    "* Numerical computation\n",
    "* Econometrics\n",
    "* Application of Mathematics in Chemical Engineering\n",
    "\n",
    "I most enjoyed the last one because it allows me to use mathematics in practice. \n",
    "I had some trouble with econometrics, mainly because it involves proofs!\n",
    "\n",
    "I have also done some programming for a project in econometrics. \n",
    "\n",
    "My experience with various computer and markup languages is good enough to run a project. I mainly used R and Python.\n",
    "\n",
    "| Language | Experience (much/some/none) |\n",
    "|----------|------------|\n",
    "|[Python](http://www.python.org/) | much |\n",
    "|[sage](http://www.sagemath.org/) | none |\n",
    "|[R](http://www.r-project.org/) | much |\n",
    "|[Matlab](http://www.mathworks.com/) | some |\n",
    "|[$\\LaTeX$](http://en.wikibooks.org/wiki/LaTeX) | some |\n",
    "|[html](http://www.w3schools.com/html/default.asp) | some |\n",
    "|[markdown](http://daringfireball.net/projects/markdown/) | none |\n",
    "| C++  | some |\n",
    "| STATA | some |"
   ]
  },
  {
   "cell_type": "markdown",
   "metadata": {
    "collapsed": false,
    "jupyter": {
     "outputs_hidden": false
    }
   },
   "source": [
    "### Learning Styles\n",
    "\n",
    "I like working in groups because I think it allows me to discuss about the subject and deepen my understanding.\n",
    "\n",
    "I find I learn best when I do practical projects.\n",
    "\n"
   ]
  },
  {
   "cell_type": "markdown",
   "metadata": {
    "collapsed": false,
    "jupyter": {
     "outputs_hidden": false
    }
   },
   "source": [
    "### Goals\n",
    "\n",
    "I am taking this class because it is a pre-requisite course for many other classes! It also seems to me practical as we use Python in JupyterLab and it's really good. I also like the project in which we should mimic the findings of a paper.\n",
    "\n",
    "I want to learn how to use numerical methods to solve problems.\n",
    "\n",
    "I would like to eventually be a data scientist.\n"
   ]
  },
  {
   "cell_type": "markdown",
   "metadata": {
    "collapsed": false,
    "jupyter": {
     "outputs_hidden": false
    }
   },
   "source": [
    "### Other Interesting Things\n",
    "\n",
    "I am an avid learner and like to learn a lot about machine learning and it's application in real life."
   ]
  },
  {
   "cell_type": "markdown",
   "metadata": {
    "collapsed": false,
    "jupyter": {
     "outputs_hidden": false
    }
   },
   "source": [
    "$$\n",
    "\\frac{d}{dx}\\frac{(x^{24}+2x)\\sin(x)}{\\cos(3x)+5x}= \\frac{(24 x^{23}+2)\\sin(x)+\\cos(x)(x^{24}+2x)} {\\cos(3x)+ 5x} - \\frac{(5-3\\sin(3x))(x^{24}+2x)\\sin(x)} {(\\cos(3x)+5x)^2}\n",
    "$$"
   ]
  },
  {
   "cell_type": "markdown",
   "metadata": {
    "collapsed": false,
    "jupyter": {
     "outputs_hidden": false
    }
   },
   "source": [
    "## $\\LaTeX$ Warm Up\n",
    "\n"
   ]
  },
  {
   "cell_type": "markdown",
   "metadata": {
    "collapsed": false,
    "jupyter": {
     "outputs_hidden": false
    }
   },
   "source": [
    "$$\n",
    "\\begin{bmatrix}\n",
    "1 & 2 \\\\\n",
    "3 & 4\n",
    "\\end{bmatrix}\n",
    "\\begin{bmatrix}\n",
    "11 & 2 \\\\\n",
    "3 & 4\n",
    "\\end{bmatrix}\n",
    "=\n",
    "\\begin{bmatrix}\n",
    "11+6 & 2+8 \\\\\n",
    "33+12 & 6+16\n",
    "\\end{bmatrix}\n",
    "=\n",
    "\\begin{bmatrix}\n",
    "17 & 10 \\\\\n",
    "45 & 22\n",
    "\\end{bmatrix}\n",
    "$$"
   ]
  },
  {
   "cell_type": "markdown",
   "metadata": {
    "collapsed": false,
    "jupyter": {
     "outputs_hidden": false
    }
   },
   "source": [
    "If $x^3 =-27$, then $x=-3$"
   ]
  },
  {
   "cell_type": "markdown",
   "metadata": {
    "collapsed": false,
    "jupyter": {
     "outputs_hidden": false
    }
   },
   "source": [
    "\\begin{align} \n",
    " \\int_{-2}^{3}(x^2-3) dx & = (\\frac{x^3}{3} - 3x) \\bigg|_{-2}^{3} = \\frac {-10}{3} \\\\\n",
    " \\text{and}\\quad\\int_{1}^{4} \\left(\\frac{4+6u}{\\sqrt{u}}\\right)du &= \\int_{1}^{2} (12x^2+8) dx = (4x^3+8x) \\bigg| _{1}^{2}= 36\n",
    "\\end{align}"
   ]
  },
  {
   "cell_type": "code",
   "execution_count": 3,
   "metadata": {
    "collapsed": false
   },
   "outputs": [
    {
     "name": "stdout",
     "output_type": "stream",
     "text": [
      "Thanks\n"
     ]
    }
   ],
   "source": [
    "print(\"Thanks\")"
   ]
  },
  {
   "cell_type": "code",
   "execution_count": 0,
   "metadata": {
    "collapsed": false
   },
   "outputs": [
   ],
   "source": [
   ]
  }
 ],
 "metadata": {
  "kernelspec": {
   "argv": [
    "/usr/bin/python3",
    "-m",
    "ipykernel",
    "--HistoryManager.enabled=False",
    "--matplotlib=inline",
    "-c",
    "%config InlineBackend.figure_formats = set(['retina'])\nimport matplotlib; matplotlib.rcParams['figure.figsize'] = (12, 7)",
    "-f",
    "{connection_file}"
   ],
   "display_name": "Python 3 (system-wide)",
   "env": {
   },
   "language": "python",
   "metadata": {
    "cocalc": {
     "description": "Python 3 programming language",
     "priority": 100,
     "url": "https://www.python.org/"
    }
   },
   "name": "python3",
   "resource_dir": "/ext/jupyter/kernels/python3"
  },
  "language_info": {
   "codemirror_mode": {
    "name": "ipython",
    "version": 3
   },
   "file_extension": ".py",
   "mimetype": "text/x-python",
   "name": "python",
   "nbconvert_exporter": "python",
   "pygments_lexer": "ipython3",
   "version": "3.8.16"
  }
 },
 "nbformat": 4,
 "nbformat_minor": 4
}