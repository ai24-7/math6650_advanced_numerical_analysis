{
 "cells": [
  {
   "cell_type": "markdown",
   "metadata": {
    "collapsed": false
   },
   "source": [
    "#### Mar 8 Exploration: Project proposal\n",
    "\n",
    "* Basic information, uploaded file, out of 1: 1\n",
    "* Why you think this paper is a good choice, out of 3: 3\n",
    "* Identify specific claims, out of 2: 2\n",
    "* List of proofs you plan to check, out of 2: 2 The proof of Theorem 1 is too small. Adding in Lemma 1 might be sufficient.\n",
    "* List of numerical experiments you plan to reproduce, out of 2: 2\n",
    "\n",
    "Total, out of 10: 10\n",
    "\n",
    "This should work well for the project."
   ]
  },
  {
   "cell_type": "markdown",
   "metadata": {
    "collapsed": false
   },
   "source": [
    "# March 8 Exploration\n",
    "## By Daniel Safavisohi"
   ]
  },
  {
   "cell_type": "raw",
   "metadata": {
    "collapsed": false
   },
   "source": [
    "@article {MR4653302,\n",
    "    AUTHOR = {Elefante, Giacomo},\n",
    "     TITLE = {A barycentric trigonometric {H}ermite interpolant via an\n",
    "              iterative approach},\n",
    "   JOURNAL = {J. Comput. Appl. Math.},\n",
    "  FJOURNAL = {Journal of Computational and Applied Mathematics},\n",
    "    VOLUME = {439},\n",
    "      YEAR = {2024},\n",
    "     PAGES = {Paper No. 115597, 13},\n",
    "      ISSN = {0377-0427,1879-1778},\n",
    "   MRCLASS = {65D05 (42A15 65T40)},\n",
    "  MRNUMBER = {4653302},\n",
    "       DOI = {10.1016/j.cam.2023.115597},\n",
    "       URL = {https://doi.org/10.1016/j.cam.2023.115597},\n",
    "}"
   ]
  },
  {
   "cell_type": "markdown",
   "metadata": {
    "collapsed": false
   },
   "source": [
    "File name is project_paper.pdf"
   ]
  },
  {
   "cell_type": "markdown",
   "metadata": {
    "collapsed": false
   },
   "source": [
    "### Why this paper"
   ]
  },
  {
   "cell_type": "markdown",
   "metadata": {
    "collapsed": false
   },
   "source": [
    "The author claims that he can effectively compute barycentric rational trigonometric Hermite interpolant using an iterative approach. I think it's not hard to reproduce the results."
   ]
  },
  {
   "cell_type": "markdown",
   "metadata": {
    "collapsed": false
   },
   "source": [
    "### Proof that I plan to check"
   ]
  },
  {
   "cell_type": "markdown",
   "metadata": {
    "collapsed": false
   },
   "source": [
    "I am going to check the theorem 1 on page 3."
   ]
  },
  {
   "cell_type": "markdown",
   "metadata": {
    "collapsed": false
   },
   "source": [
    "### Experiment that I plan to reproduce"
   ]
  },
  {
   "cell_type": "markdown",
   "metadata": {
    "collapsed": false
   },
   "source": [
    "I am going to use python and calculate interpolation iteratively for the first periodic test function , $f_1(x) = e^{2\\sin(\\theta)+\\cos(\\theta)}$, over $[0,2\\pi)$\n",
    "\n",
    "I also reproduce the associated error and plot it.\n",
    "\n"
   ]
  },
  {
   "cell_type": "code",
   "execution_count": 0,
   "metadata": {
    "collapsed": false
   },
   "outputs": [
   ],
   "source": [
   ]
  }
 ],
 "metadata": {
  "kernelspec": {
   "argv": [
    "/usr/bin/python3",
    "-m",
    "ipykernel",
    "--HistoryManager.enabled=False",
    "--matplotlib=inline",
    "-c",
    "%config InlineBackend.figure_formats = set(['retina'])\nimport matplotlib; matplotlib.rcParams['figure.figsize'] = (12, 7)",
    "-f",
    "{connection_file}"
   ],
   "display_name": "Python 3 (system-wide)",
   "env": {
   },
   "language": "python",
   "metadata": {
    "cocalc": {
     "description": "Python 3 programming language",
     "priority": 100,
     "url": "https://www.python.org/"
    }
   },
   "name": "python3",
   "resource_dir": "/ext/jupyter/kernels/python3"
  }
 },
 "nbformat": 4,
 "nbformat_minor": 4
}